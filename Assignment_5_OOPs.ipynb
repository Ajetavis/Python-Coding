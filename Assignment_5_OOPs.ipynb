{
 "cells": [
  {
   "cell_type": "markdown",
   "metadata": {},
   "source": [
    "## Challenge 1: Square Numbers and Return Their Sum"
   ]
  },
  {
   "cell_type": "markdown",
   "metadata": {},
   "source": [
    "Implement a class `Point` that has three properties and a method. All these attributes (properties and methods) should be `public`. This problem can be broken down into two tasks:"
   ]
  },
  {
   "cell_type": "markdown",
   "metadata": {},
   "source": [
    "\n",
    "Sample properties\n",
    "    `1`, `3`, `5`\n",
    "\n",
    "Sample method output\n",
    "    `35`\n"
   ]
  },
  {
   "cell_type": "code",
   "execution_count": 1,
   "metadata": {},
   "outputs": [],
   "source": [
    "# Implementing class\n",
    "class Point:\n",
    "\n",
    "    def __init__(self,x,y,z):\n",
    "        self.x = x\n",
    "        self.y = y\n",
    "        self.z = z\n",
    "\n",
    "    def sqSum(self):\n",
    "        return (self.x**2 + self.y**2 + self.z**2)"
   ]
  },
  {
   "cell_type": "code",
   "execution_count": 2,
   "metadata": {},
   "outputs": [
    {
     "name": "stdout",
     "output_type": "stream",
     "text": [
      "enter an integer x: 1\n",
      "enter an integer y: 3\n",
      "enter an integer z: 5\n"
     ]
    }
   ],
   "source": [
    "#instantiating the class\n",
    "sample_ex = Point(int(input('enter an integer x: ')),int(input('enter an integer y: ')),int(input('enter an integer z: ')))"
   ]
  },
  {
   "cell_type": "code",
   "execution_count": 3,
   "metadata": {},
   "outputs": [
    {
     "data": {
      "text/plain": [
       "35"
      ]
     },
     "execution_count": 3,
     "metadata": {},
     "output_type": "execute_result"
    }
   ],
   "source": [
    "sample_ex.sqSum()"
   ]
  },
  {
   "cell_type": "code",
   "execution_count": null,
   "metadata": {},
   "outputs": [],
   "source": []
  },
  {
   "cell_type": "markdown",
   "metadata": {},
   "source": [
    "## Challenge 2: Implement a Calculator Class\n",
    "\n",
    "Write a Python class called Calculator by completing the tasks below:\n",
    "\n",
    "👉 **Methods**\n",
    "\n",
    "    • add() is a method that returns the sum of num1 and num2.\n",
    "    • subtract() is a method that returns the subtraction of num1 from num2.\n",
    "    • multiply() is a method that returns the product of num1 and num2.\n",
    "    • divide() is a method that returns the division of num2 by num1.\n",
    "\n",
    "Sample input\n",
    "\n",
    "    obj = Calculator(10, 94)\n",
    "    obj.add()\n",
    "    obj.subtract()\n",
    "    obj.multiply()\n",
    "    obj.divide()\n",
    "\n",
    "Sample output\n",
    "\n",
    "    104\n",
    "    84\n",
    "    940\n",
    "    9.4\n"
   ]
  },
  {
   "cell_type": "code",
   "execution_count": 4,
   "metadata": {},
   "outputs": [],
   "source": [
    "#Implementing class\n",
    "class Calculator:\n",
    "\n",
    "    def __init__(self,num1,num2):\n",
    "        self.num1 = num1\n",
    "        self.num2 = num2\n",
    "    def add(self):\n",
    "        return self.num1+self.num2\n",
    "    def subtract(self):\n",
    "        return self.num2 - self.num1\n",
    "    def multiply(self):\n",
    "        return self.num1 * self.num2\n",
    "    def divide(self):\n",
    "        return self.num2 / self.num1"
   ]
  },
  {
   "cell_type": "code",
   "execution_count": 5,
   "metadata": {},
   "outputs": [
    {
     "name": "stdout",
     "output_type": "stream",
     "text": [
      "enter num1: 10\n",
      "enter num2: 94\n"
     ]
    }
   ],
   "source": [
    "#instantiating the class\n",
    "obj = Calculator(int(input(\"enter num1: \")),int(input(\"enter num2: \")))"
   ]
  },
  {
   "cell_type": "code",
   "execution_count": 6,
   "metadata": {},
   "outputs": [
    {
     "data": {
      "text/plain": [
       "104"
      ]
     },
     "execution_count": 6,
     "metadata": {},
     "output_type": "execute_result"
    }
   ],
   "source": [
    "obj.add()"
   ]
  },
  {
   "cell_type": "code",
   "execution_count": 7,
   "metadata": {},
   "outputs": [
    {
     "data": {
      "text/plain": [
       "84"
      ]
     },
     "execution_count": 7,
     "metadata": {},
     "output_type": "execute_result"
    }
   ],
   "source": [
    "obj.subtract()"
   ]
  },
  {
   "cell_type": "code",
   "execution_count": 8,
   "metadata": {},
   "outputs": [
    {
     "data": {
      "text/plain": [
       "940"
      ]
     },
     "execution_count": 8,
     "metadata": {},
     "output_type": "execute_result"
    }
   ],
   "source": [
    "obj.multiply()"
   ]
  },
  {
   "cell_type": "code",
   "execution_count": 9,
   "metadata": {},
   "outputs": [
    {
     "data": {
      "text/plain": [
       "9.4"
      ]
     },
     "execution_count": 9,
     "metadata": {},
     "output_type": "execute_result"
    }
   ],
   "source": [
    "obj.divide()"
   ]
  },
  {
   "cell_type": "markdown",
   "metadata": {},
   "source": [
    "## Challenge 3: Implement the Complete Student Class\n",
    "\n",
    "\n",
    "Implement the complete **Student** class by completing the tasks below\n",
    "\n",
    "*Task*\n",
    "\n",
    "👉 Implement the following properties as **`private`**:\n",
    "\n",
    "    • name\n",
    "    • rollNumber\n",
    "\n",
    "👉 Include the following methods to get and set the **`private properties`** above:\n",
    "\n",
    "    • getName()\n",
    "    • setName()\n",
    "    • getRollNumber()\n",
    "    • setRollNumber()\n",
    "\n",
    "👉 Implement this class according to the rules of encapsulation.\n"
   ]
  },
  {
   "cell_type": "code",
   "execution_count": 12,
   "metadata": {},
   "outputs": [],
   "source": [
    "#Note only variable are private methods are public\n",
    "class Student:\n",
    "    def __init__(self):\n",
    "        self.__name = 'Null'\n",
    "        self.__rollno = 'Null'\n",
    "\n",
    "    def setName(self,name):\n",
    "        self.__name = name\n",
    "        print('setName method is called')\n",
    "    def getName(self):\n",
    "        print('getName method is called')\n",
    "        return self.__name\n",
    "    def setRollNumber(self,rollno):\n",
    "        print('setRollNumber method is called')\n",
    "        self.__rollno = rollno\n",
    "    def getRollNumber(self):\n",
    "        print('getRollNumber mehtod is called')\n",
    "        return self.__rollno\n",
    "    _name = property(getName,setName)\n",
    "    _rollno = property(getRollNumber,setRollNumber)"
   ]
  },
  {
   "cell_type": "code",
   "execution_count": 13,
   "metadata": {},
   "outputs": [],
   "source": [
    "st = Student()"
   ]
  },
  {
   "cell_type": "code",
   "execution_count": 14,
   "metadata": {},
   "outputs": [
    {
     "name": "stdout",
     "output_type": "stream",
     "text": [
      "getName method is called\n"
     ]
    },
    {
     "data": {
      "text/plain": [
       "'Null'"
      ]
     },
     "execution_count": 14,
     "metadata": {},
     "output_type": "execute_result"
    }
   ],
   "source": [
    "st._name"
   ]
  },
  {
   "cell_type": "code",
   "execution_count": 15,
   "metadata": {},
   "outputs": [
    {
     "name": "stdout",
     "output_type": "stream",
     "text": [
      "getRollNumber mehtod is called\n"
     ]
    },
    {
     "data": {
      "text/plain": [
       "'Null'"
      ]
     },
     "execution_count": 15,
     "metadata": {},
     "output_type": "execute_result"
    }
   ],
   "source": [
    "st._rollno "
   ]
  },
  {
   "cell_type": "code",
   "execution_count": 16,
   "metadata": {},
   "outputs": [
    {
     "name": "stdout",
     "output_type": "stream",
     "text": [
      "setName method is called\n"
     ]
    }
   ],
   "source": [
    "st._name = 'Alex'"
   ]
  },
  {
   "cell_type": "code",
   "execution_count": 17,
   "metadata": {},
   "outputs": [
    {
     "name": "stdout",
     "output_type": "stream",
     "text": [
      "getName method is called\n"
     ]
    },
    {
     "data": {
      "text/plain": [
       "'Alex'"
      ]
     },
     "execution_count": 17,
     "metadata": {},
     "output_type": "execute_result"
    }
   ],
   "source": [
    "st._name"
   ]
  },
  {
   "cell_type": "code",
   "execution_count": 18,
   "metadata": {},
   "outputs": [
    {
     "name": "stdout",
     "output_type": "stream",
     "text": [
      "setRollNumber method is called\n"
     ]
    }
   ],
   "source": [
    "st._rollno = 1002"
   ]
  },
  {
   "cell_type": "code",
   "execution_count": 19,
   "metadata": {},
   "outputs": [
    {
     "name": "stdout",
     "output_type": "stream",
     "text": [
      "getRollNumber mehtod is called\n"
     ]
    },
    {
     "data": {
      "text/plain": [
       "1002"
      ]
     },
     "execution_count": 19,
     "metadata": {},
     "output_type": "execute_result"
    }
   ],
   "source": [
    "st._rollno"
   ]
  },
  {
   "cell_type": "markdown",
   "metadata": {},
   "source": [
    "## Challenge 4: Implement a Banking Account\n",
    "\n",
    "\n",
    "\n",
    "    🔴 In this challenge, you will implement a banking account using the concepts of inheritance.\n",
    "\n",
    "**Problem statement**\n",
    "\n",
    "Implement the basic structure of a parent class, `Account`, and a child class, `SavingsAccount`.\n",
    "\n",
    "*Task 1*\n",
    "\n",
    "👉  Implement properties as `instance variables`, and set them to `None` or `0`.\n",
    "\n",
    "`Account` has the following properties:\n",
    "\n",
    "        • title\n",
    "        • Balance\n",
    "\n",
    "`SavingsAccount` has the following properties:\n",
    "\n",
    "        • interestRate\n",
    "\n",
    "*Task 2*\n",
    "\n",
    "Create an `initializer` for Account class. The order of parameters should be the following, where `Ashish` is the `title`, and `5000` is the `account balance`:\n",
    "\n",
    "**Account(\"Ashish\", 5000)**\n",
    "\n",
    "*Task 3*\n",
    "\n",
    "Implement properties as **instance variables**, and set them to `None` or `0`.\n",
    "\n",
    "Create an `initializer` for the `SavingsAccount` class using the initializer of the `Account` class in the order below:\n",
    "\n",
    "**Account(\"Ashish\", 5000, 5)**\n",
    "\n",
    "Here, `Ashish`  is the `title` and `5000` is the `balance` and `5` is the `interestRate`."
   ]
  },
  {
   "cell_type": "code",
   "execution_count": 20,
   "metadata": {},
   "outputs": [],
   "source": [
    "class Account:\n",
    "\n",
    "    def __init__(self,title=None,balance=0):\n",
    "        self.title = title\n",
    "        self.balance = balance\n",
    "\n",
    "class SavingsAccount(Account):\n",
    "\n",
    "    def __init__(self,title=None,balance=0,interestrate=0):\n",
    "        Account.__init__(self,title,balance)                   #super() method can also be used \n",
    "        self.interestrate = interestrate\n"
   ]
  },
  {
   "cell_type": "code",
   "execution_count": 21,
   "metadata": {},
   "outputs": [],
   "source": [
    "my_account = Account('Ashish',5000)"
   ]
  },
  {
   "cell_type": "code",
   "execution_count": 22,
   "metadata": {},
   "outputs": [
    {
     "data": {
      "text/plain": [
       "'Ashish'"
      ]
     },
     "execution_count": 22,
     "metadata": {},
     "output_type": "execute_result"
    }
   ],
   "source": [
    "my_account.title"
   ]
  },
  {
   "cell_type": "code",
   "execution_count": 23,
   "metadata": {},
   "outputs": [
    {
     "data": {
      "text/plain": [
       "5000"
      ]
     },
     "execution_count": 23,
     "metadata": {},
     "output_type": "execute_result"
    }
   ],
   "source": [
    "my_account.balance"
   ]
  },
  {
   "cell_type": "code",
   "execution_count": 24,
   "metadata": {},
   "outputs": [],
   "source": [
    "my_saving_account = SavingsAccount('Ashish',5000,5)"
   ]
  },
  {
   "cell_type": "code",
   "execution_count": 25,
   "metadata": {},
   "outputs": [
    {
     "data": {
      "text/plain": [
       "'Ashish'"
      ]
     },
     "execution_count": 25,
     "metadata": {},
     "output_type": "execute_result"
    }
   ],
   "source": [
    "my_saving_account.title"
   ]
  },
  {
   "cell_type": "code",
   "execution_count": 26,
   "metadata": {},
   "outputs": [
    {
     "data": {
      "text/plain": [
       "5000"
      ]
     },
     "execution_count": 26,
     "metadata": {},
     "output_type": "execute_result"
    }
   ],
   "source": [
    "my_saving_account.balance"
   ]
  },
  {
   "cell_type": "code",
   "execution_count": 28,
   "metadata": {},
   "outputs": [
    {
     "data": {
      "text/plain": [
       "5"
      ]
     },
     "execution_count": 28,
     "metadata": {},
     "output_type": "execute_result"
    }
   ],
   "source": [
    "my_saving_account.interestrate"
   ]
  },
  {
   "cell_type": "code",
   "execution_count": null,
   "metadata": {},
   "outputs": [],
   "source": []
  },
  {
   "cell_type": "markdown",
   "metadata": {},
   "source": [
    "## Challenge 5: Handling a Bank Account\n",
    "\n",
    "\n",
    "\n",
    "🔴 In this challenge, you will define methods for handling a bank account using concepts of `inheritance`.\n",
    "\n",
    "**Problem statement**\n",
    "\n",
    "In this challenge, we will be extending the previous challenge and implementing methods in the parent class and its corresponding child class.\n",
    "\n",
    "The initializers for both classes have been defined for you.\n",
    "\n",
    "*Task 1*\n",
    "\n",
    "In the `Account` class, implement the `getBalance()` method that returns `balance`.\n",
    "\n",
    "*Task 2*\n",
    "\n",
    "In the `Account` class, implement the `deposit(amount)` method that adds `amount` to the `balance`.\n",
    "\n",
    "It **does not** return anything.\n",
    "\n",
    "Sample input\n",
    "\n",
    "    balance = 2000\n",
    "    deposit(500)\n",
    "    getbalance()\n",
    "\n",
    "Sample output\n",
    "\n",
    "    2500\n",
    "*Task 3*\n",
    "\n",
    "In the `Account` class, implement the `withdrawal(amount)` method that subtracts the `amount` from the `balance`.\n",
    "\n",
    "It **does not** return anything.\n",
    "\n",
    "Sample input\n",
    "\n",
    "    balance = 2000\n",
    "    withdrawal(500)\n",
    "    getbalance()\n",
    "\n",
    "Sample output\n",
    "\n",
    "    1500\n",
    "\n",
    "*Task 4*\n",
    "\n",
    "In the `SavingsAccount` class, implement an `interestAmount()` *method* that **returns** the interest amount of the **current balance**. \n",
    "\n",
    "**Below is the formula for calculating the interest amount:**\n",
    "\n",
    "Sample input\n",
    "\n",
    "    balance = 2000\n",
    "    interestRate = 5\n",
    "    interestAmount()\n",
    "\n",
    "Sample output\n",
    "\n",
    "    100\n",
    "\n",
    "`The following figure shows what the result should logically look like:`\n",
    "\n",
    "## Solution"
   ]
  },
  {
   "cell_type": "code",
   "execution_count": 29,
   "metadata": {},
   "outputs": [],
   "source": [
    "\n",
    "class Account:\n",
    "    def __init__(self, title=None, balance=0):\n",
    "        self.title = title\n",
    "        self.balance = balance\n",
    "\n",
    "    def withdrawal(self, amount):\n",
    "        if amount>self.balance:\n",
    "            print(\"insufficient balance\")\n",
    "        else:\n",
    "            self.balance -= amount\n",
    "            print('Withdrawal request accepted')\n",
    "        \n",
    "    def deposit(self, amount):\n",
    "        self.balance += amount\n",
    "        print('Deposit Accepted')\n",
    "        \n",
    "    def getBalance(self):\n",
    "        return self.balance\n",
    "\n",
    "class SavingsAccount(Account):\n",
    "    def __init__(self, title=None, balance=0, interestRate=0):\n",
    "            super().__init__(title, balance)\n",
    "            self.interestRate = interestRate\n",
    "\n",
    "    def interestAmount(self):\n",
    "        return (self.balance*self.interestRate / 100)\n"
   ]
  },
  {
   "cell_type": "code",
   "execution_count": 30,
   "metadata": {},
   "outputs": [],
   "source": [
    "my_account = Account('Ashish',2000)"
   ]
  },
  {
   "cell_type": "code",
   "execution_count": 31,
   "metadata": {},
   "outputs": [
    {
     "data": {
      "text/plain": [
       "2000"
      ]
     },
     "execution_count": 31,
     "metadata": {},
     "output_type": "execute_result"
    }
   ],
   "source": [
    "my_account.getBalance()"
   ]
  },
  {
   "cell_type": "code",
   "execution_count": 32,
   "metadata": {},
   "outputs": [
    {
     "name": "stdout",
     "output_type": "stream",
     "text": [
      "insufficient balance\n"
     ]
    }
   ],
   "source": [
    "my_account.withdrawal(5500)"
   ]
  },
  {
   "cell_type": "code",
   "execution_count": 33,
   "metadata": {},
   "outputs": [
    {
     "name": "stdout",
     "output_type": "stream",
     "text": [
      "Withdrawal request accepted\n"
     ]
    }
   ],
   "source": [
    "my_account.withdrawal(500)"
   ]
  },
  {
   "cell_type": "code",
   "execution_count": 34,
   "metadata": {},
   "outputs": [
    {
     "data": {
      "text/plain": [
       "1500"
      ]
     },
     "execution_count": 34,
     "metadata": {},
     "output_type": "execute_result"
    }
   ],
   "source": [
    "my_account.getBalance()"
   ]
  },
  {
   "cell_type": "code",
   "execution_count": 35,
   "metadata": {},
   "outputs": [
    {
     "name": "stdout",
     "output_type": "stream",
     "text": [
      "Deposit Accepted\n"
     ]
    }
   ],
   "source": [
    "my_account.deposit(500)"
   ]
  },
  {
   "cell_type": "code",
   "execution_count": 36,
   "metadata": {},
   "outputs": [
    {
     "data": {
      "text/plain": [
       "2000"
      ]
     },
     "execution_count": 36,
     "metadata": {},
     "output_type": "execute_result"
    }
   ],
   "source": [
    "my_account.getBalance()"
   ]
  },
  {
   "cell_type": "code",
   "execution_count": 37,
   "metadata": {},
   "outputs": [],
   "source": [
    "demo1 = SavingsAccount(\"Ashish\", 2000, 5)   # initializing a SavingsAccount object"
   ]
  },
  {
   "cell_type": "code",
   "execution_count": 38,
   "metadata": {},
   "outputs": [
    {
     "data": {
      "text/plain": [
       "100.0"
      ]
     },
     "execution_count": 38,
     "metadata": {},
     "output_type": "execute_result"
    }
   ],
   "source": [
    "demo1.interestAmount()"
   ]
  },
  {
   "cell_type": "code",
   "execution_count": null,
   "metadata": {},
   "outputs": [],
   "source": []
  },
  {
   "cell_type": "code",
   "execution_count": null,
   "metadata": {},
   "outputs": [],
   "source": []
  },
  {
   "cell_type": "code",
   "execution_count": null,
   "metadata": {},
   "outputs": [],
   "source": []
  },
  {
   "cell_type": "code",
   "execution_count": null,
   "metadata": {},
   "outputs": [],
   "source": []
  }
 ],
 "metadata": {
  "kernelspec": {
   "display_name": "Python 3",
   "language": "python",
   "name": "python3"
  },
  "language_info": {
   "codemirror_mode": {
    "name": "ipython",
    "version": 3
   },
   "file_extension": ".py",
   "mimetype": "text/x-python",
   "name": "python",
   "nbconvert_exporter": "python",
   "pygments_lexer": "ipython3",
   "version": "3.7.4"
  }
 },
 "nbformat": 4,
 "nbformat_minor": 2
}
