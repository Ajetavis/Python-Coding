{
 "cells": [
  {
   "cell_type": "markdown",
   "metadata": {},
   "source": [
    "## For counting odd and even numbers"
   ]
  },
  {
   "cell_type": "code",
   "execution_count": 3,
   "metadata": {},
   "outputs": [
    {
     "name": "stdout",
     "output_type": "stream",
     "text": [
      "Odd numbers count: 5\n",
      "Even numbers count 4\n"
     ]
    }
   ],
   "source": [
    "li = [1,2,3,4,5,6,7,8,9]\n",
    "odd = 0\n",
    "even = 0\n",
    "for i in li:\n",
    "    if i%2==0:\n",
    "        even += 1\n",
    "    else:\n",
    "        odd += 1\n",
    "print(\"Odd numbers count:\", odd)\n",
    "print(\"Even numbers count\", even)"
   ]
  },
  {
   "cell_type": "markdown",
   "metadata": {},
   "source": [
    "## For getting random inputs from user as list elements"
   ]
  },
  {
   "cell_type": "code",
   "execution_count": 10,
   "metadata": {},
   "outputs": [
    {
     "name": "stdout",
     "output_type": "stream",
     "text": [
      "no of elements:5\n",
      "1\n",
      "2\n",
      "3\n",
      "4\n",
      "5\n",
      "Final list: [1, 2, 3, 4, 5]\n"
     ]
    }
   ],
   "source": [
    "li = []\n",
    "\n",
    "n = int(input(\"no of elements:\"))\n",
    "\n",
    "for i in range(n):\n",
    "    input_num = int(input())\n",
    "    li.append(input_num)\n",
    "print(\"Final list:\",li)"
   ]
  },
  {
   "cell_type": "code",
   "execution_count": null,
   "metadata": {},
   "outputs": [],
   "source": []
  },
  {
   "cell_type": "code",
   "execution_count": null,
   "metadata": {},
   "outputs": [],
   "source": []
  },
  {
   "cell_type": "code",
   "execution_count": null,
   "metadata": {},
   "outputs": [],
   "source": []
  },
  {
   "cell_type": "code",
   "execution_count": null,
   "metadata": {},
   "outputs": [],
   "source": []
  }
 ],
 "metadata": {
  "kernelspec": {
   "display_name": "Python 3",
   "language": "python",
   "name": "python3"
  },
  "language_info": {
   "codemirror_mode": {
    "name": "ipython",
    "version": 3
   },
   "file_extension": ".py",
   "mimetype": "text/x-python",
   "name": "python",
   "nbconvert_exporter": "python",
   "pygments_lexer": "ipython3",
   "version": "3.7.4"
  }
 },
 "nbformat": 4,
 "nbformat_minor": 2
}
