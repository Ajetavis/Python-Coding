{
 "cells": [
  {
   "cell_type": "markdown",
   "metadata": {},
   "source": [
    "Write a Python program to triple all numbers of a given list of integers. Use Python map."
   ]
  },
  {
   "cell_type": "markdown",
   "metadata": {},
   "source": [
    "sample list: [1, 2, 3, 4, 5, 6, 7]\n",
    "\n",
    "\n",
    "\n",
    "Triple of list numbers:\n",
    "\n",
    "[3, 6, 9, 12, 15, 18, 21]"
   ]
  },
  {
   "cell_type": "code",
   "execution_count": 9,
   "metadata": {},
   "outputs": [],
   "source": [
    "#writing lambda function to triple the elements\n",
    "\n",
    "tripling = lambda x:x*3"
   ]
  },
  {
   "cell_type": "code",
   "execution_count": 10,
   "metadata": {},
   "outputs": [],
   "source": [
    "# Taking user from input and getting output\n",
    "def user_input():\n",
    "    n = 'temp'\n",
    "    my_list = []\n",
    "    print('just press enter without any value to terminate the list ')\n",
    "    print('Note:You may provide alphabets also but  only integers from the list is considered for tripling')\n",
    "    while True:\n",
    "        n = input('enter the digit: ')\n",
    "        my_list.append(n)\n",
    "        if n == '':\n",
    "            break\n",
    "    #making a list of integer elements from user defined input using list comprehension method\n",
    "    my_list2= [int(i) for i in my_list if i.isdigit()]\n",
    "    \n",
    "    print('\\nmy_integer_list: ')\n",
    "    print(my_list2,'\\n')\n",
    "    print('output_list: ')\n",
    "    \n",
    "    # using map function to map our lambda function and ourlist \n",
    "    output_list = list(map(tripling,my_list2))\n",
    "    return output_list\n"
   ]
  },
  {
   "cell_type": "code",
   "execution_count": 11,
   "metadata": {},
   "outputs": [
    {
     "name": "stdout",
     "output_type": "stream",
     "text": [
      "just press enter without any value to terminate the list \n",
      "Note:You may provide alphabets also but  only integers from the list is considered for tripling\n",
      "enter the digit: 1\n",
      "enter the digit: 2\n",
      "enter the digit: 3\n",
      "enter the digit: 4\n",
      "enter the digit: 5\n",
      "enter the digit: 6\n",
      "enter the digit: 7\n",
      "enter the digit: \n",
      "\n",
      "my_integer_list: \n",
      "[1, 2, 3, 4, 5, 6, 7] \n",
      "\n",
      "output_list: \n"
     ]
    },
    {
     "data": {
      "text/plain": [
       "[3, 6, 9, 12, 15, 18, 21]"
      ]
     },
     "execution_count": 11,
     "metadata": {},
     "output_type": "execute_result"
    }
   ],
   "source": [
    "user_input()"
   ]
  },
  {
   "cell_type": "code",
   "execution_count": null,
   "metadata": {},
   "outputs": [],
   "source": []
  },
  {
   "cell_type": "code",
   "execution_count": null,
   "metadata": {},
   "outputs": [],
   "source": []
  },
  {
   "cell_type": "code",
   "execution_count": null,
   "metadata": {},
   "outputs": [],
   "source": []
  }
 ],
 "metadata": {
  "kernelspec": {
   "display_name": "Python 3",
   "language": "python",
   "name": "python3"
  },
  "language_info": {
   "codemirror_mode": {
    "name": "ipython",
    "version": 3
   },
   "file_extension": ".py",
   "mimetype": "text/x-python",
   "name": "python",
   "nbconvert_exporter": "python",
   "pygments_lexer": "ipython3",
   "version": "3.7.4"
  }
 },
 "nbformat": 4,
 "nbformat_minor": 2
}
