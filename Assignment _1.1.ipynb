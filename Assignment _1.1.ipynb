{
 "cells": [
  {
   "cell_type": "markdown",
   "metadata": {},
   "source": [
    "#### Q.1. Differentiate between lists and tuples."
   ]
  },
  {
   "cell_type": "markdown",
   "metadata": {},
   "source": [
    "The major difference is that a list is mutable, but a tuple is immutable. Examples:"
   ]
  },
  {
   "cell_type": "code",
   "execution_count": null,
   "metadata": {},
   "outputs": [],
   "source": []
  },
  {
   "cell_type": "markdown",
   "metadata": {},
   "source": [
    "#### Q.2. What are negative indices?"
   ]
  },
  {
   "cell_type": "markdown",
   "metadata": {},
   "source": [
    "A negative index, unlike a positive one, begins searching from the right"
   ]
  },
  {
   "cell_type": "code",
   "execution_count": null,
   "metadata": {},
   "outputs": [],
   "source": []
  },
  {
   "cell_type": "markdown",
   "metadata": {},
   "source": [
    "#### Q.3. How long can an identifier be in Python?"
   ]
  },
  {
   "cell_type": "markdown",
   "metadata": {},
   "source": [
    "According to the official Python documentation, an identifier can be of any length. However, PEP 8 suggests that you should limit all lines to a maximum of 79 characters. Also, PEP 20 says ‘readability counts’. So, a very long identifier will violate PEP-8 and PEP-20.\n",
    "\n",
    "Apart from that, there are certain rules we must follow to name one:\n",
    "\n",
    "It can only begin with an underscore or a character from A-Z or a-z.\n",
    "\n",
    "The rest of it can contain anything from the following: A-Z/a-z/_/0-9.\n",
    "\n",
    "Python is case-sensitive, as we discussed in the previous question.\n",
    "\n",
    "Keywords cannot be used as identifiers. Python has the following keywords:\n"
   ]
  },
  {
   "cell_type": "markdown",
   "metadata": {},
   "source": [
    "**and\tdef\tFalse\timport\tnot\tTrue**\n",
    "\n",
    "**as\tdel\tfinally\tin\tor\ttry**\n",
    "\n",
    "**assert\telif\tfor\tis\tpass\twhile**\n",
    "\n",
    "**break\telse\tfrom\tlambda\tprint\twith**\n",
    "\n",
    "**class\texcept\tglobal\tNone\traise\tyield**\n",
    "\n",
    "**continue\texec\tif\tnonlocal\treturn**\n"
   ]
  },
  {
   "cell_type": "code",
   "execution_count": null,
   "metadata": {},
   "outputs": [],
   "source": []
  },
  {
   "cell_type": "markdown",
   "metadata": {},
   "source": [
    "#### Q.4. What is the pass statement in Python?"
   ]
  },
  {
   "cell_type": "markdown",
   "metadata": {},
   "source": [
    "There may be times in our code when we haven’t decided what to do yet, but we must type something for it to be syntactically correct. In such a case, we use the pass statement."
   ]
  },
  {
   "cell_type": "code",
   "execution_count": null,
   "metadata": {},
   "outputs": [],
   "source": []
  },
  {
   "cell_type": "markdown",
   "metadata": {},
   "source": [
    "#### Q.5. Explain help() and dir() functions in Python. "
   ]
  },
  {
   "cell_type": "markdown",
   "metadata": {},
   "source": [
    "The help() function displays the documentation string and help for its argument\n",
    "\n",
    "The dir() function displays all the members of an object(any kind)."
   ]
  },
  {
   "cell_type": "code",
   "execution_count": 31,
   "metadata": {},
   "outputs": [
    {
     "name": "stdout",
     "output_type": "stream",
     "text": [
      "Help on method_descriptor:\n",
      "\n",
      "isupper(self, /)\n",
      "    Return True if the string is an uppercase string, False otherwise.\n",
      "    \n",
      "    A string is uppercase if all cased characters in the string are uppercase and\n",
      "    there is at least one cased character in the string.\n",
      "\n",
      "None\n"
     ]
    }
   ],
   "source": [
    "# Example for help fn\n",
    "print(help(str.isupper))"
   ]
  },
  {
   "cell_type": "code",
   "execution_count": 32,
   "metadata": {},
   "outputs": [
    {
     "name": "stdout",
     "output_type": "stream",
     "text": [
      "['__add__', '__class__', '__contains__', '__delattr__', '__delitem__', '__dir__', '__doc__', '__eq__', '__format__', '__ge__', '__getattribute__', '__getitem__', '__gt__', '__hash__', '__iadd__', '__imul__', '__init__', '__init_subclass__', '__iter__', '__le__', '__len__', '__lt__', '__mul__', '__ne__', '__new__', '__reduce__', '__reduce_ex__', '__repr__', '__reversed__', '__rmul__', '__setattr__', '__setitem__', '__sizeof__', '__str__', '__subclasshook__', 'append', 'clear', 'copy', 'count', 'extend', 'index', 'insert', 'pop', 'remove', 'reverse', 'sort']\n"
     ]
    }
   ],
   "source": [
    "# Example for dir\n",
    "print(dir(list))"
   ]
  },
  {
   "cell_type": "code",
   "execution_count": null,
   "metadata": {},
   "outputs": [],
   "source": []
  },
  {
   "cell_type": "markdown",
   "metadata": {},
   "source": [
    "#### Q.6. What is slicing?"
   ]
  },
  {
   "cell_type": "markdown",
   "metadata": {},
   "source": [
    "Slicing is a technique that allows us to retrieve only a part of a list, tuple, or string. For this, we use the slicing operator []."
   ]
  },
  {
   "cell_type": "code",
   "execution_count": null,
   "metadata": {},
   "outputs": [],
   "source": []
  },
  {
   "cell_type": "markdown",
   "metadata": {},
   "source": [
    "#### Q.7. Limitations of Python? "
   ]
  },
  {
   "cell_type": "markdown",
   "metadata": {},
   "source": [
    "Python’s interpreted nature imposes a speed penalty on it.\n",
    "\n",
    "While Python is great for a lot of things, it is weak in mobile computing, and in browsers.\n",
    "\n",
    "Being dynamically-typed, Python uses duck-typing (If it looks like a duck, it must be a duck). This can raise runtime errors.\n",
    "\n",
    "Python has underdeveloped database access layers. This renders it a less-than-perfect choice for huge database applications.\n",
    "\n",
    "And then, well, of course. Being easy makes it addictive. Once a Python-coder, always a Python coder"
   ]
  },
  {
   "cell_type": "code",
   "execution_count": null,
   "metadata": {},
   "outputs": [],
   "source": []
  },
  {
   "cell_type": "markdown",
   "metadata": {},
   "source": [
    "#### Q.8. And how do you reverse a list?\n",
    "\n",
    "Using the reverse() method. "
   ]
  },
  {
   "cell_type": "code",
   "execution_count": null,
   "metadata": {},
   "outputs": [],
   "source": []
  },
  {
   "cell_type": "markdown",
   "metadata": {},
   "source": [
    "####  Q.9. Why do we need break and continue in Python?\n",
    "\n",
    "Both break and continue are statements that control flow in Python loops. break stops the current loop from executing further and transfers the control to the next block. continue jumps to the next iteration of the loop without exhausting it."
   ]
  },
  {
   "cell_type": "code",
   "execution_count": null,
   "metadata": {},
   "outputs": [],
   "source": []
  },
  {
   "cell_type": "markdown",
   "metadata": {},
   "source": [
    "#### Q.10. In one line, show us how you’ll get the max alphabetical character from a string.\n",
    "\n",
    "For this, we’ll simply use the max function.\n",
    "\n",
    "the max function returns the highest ascii code of characters in a string"
   ]
  },
  {
   "cell_type": "code",
   "execution_count": 33,
   "metadata": {},
   "outputs": [
    {
     "name": "stdout",
     "output_type": "stream",
     "text": [
      "w\n"
     ]
    }
   ],
   "source": [
    "# Example: \n",
    "print(max('hello world'))"
   ]
  },
  {
   "cell_type": "code",
   "execution_count": null,
   "metadata": {},
   "outputs": [],
   "source": []
  },
  {
   "cell_type": "markdown",
   "metadata": {},
   "source": [
    "#### Q.11. Can you name five built-in functions in Python and explain each in brief?"
   ]
  },
  {
   "cell_type": "markdown",
   "metadata": {},
   "source": [
    "**complex()**- Creates a complex number.\n",
    "\n",
    ">complex(3.5,4)\n",
    ">>(3.5+4j)\n",
    "\n",
    "**eval()**- Parses a string as an expression.\n",
    "\n",
    ">eval('print(max(22,22.0)-min(2,3))')\n",
    ">>20\n",
    "\n",
    "**filter()**- Filters in items for which the condition is true.\n",
    "\n",
    "> list(filter(lambda x:x%2==0,[1,2,0,False]))\n",
    ">>[2, 0, False]\n",
    "\n",
    "**format()**- Lets us format a string.\n",
    "\n",
    ">  print(\"a = {} but b = {}\".format(2,3))\n",
    ">>a = 2 but b = 3\n",
    "\n",
    "**hash()**- Returns the hash value of an object.\n",
    "> hash(3.7)\n",
    ">>644245917"
   ]
  },
  {
   "cell_type": "code",
   "execution_count": null,
   "metadata": {},
   "outputs": [],
   "source": []
  },
  {
   "cell_type": "markdown",
   "metadata": {},
   "source": [
    "#### Q.12. How will you convert a list into a string?\n",
    "\n",
    "We will use the join() method for this.\n",
    "\n",
    "> nums=['one','two','three','four','five','six','seven']\n",
    "\n",
    ">s=' '.join(nums)\n",
    ">> 'one two three four five six seven'"
   ]
  },
  {
   "cell_type": "code",
   "execution_count": null,
   "metadata": {},
   "outputs": [],
   "source": []
  },
  {
   "cell_type": "markdown",
   "metadata": {},
   "source": [
    "#### Q.13. How will you remove a duplicate element from a list?\n",
    "\n",
    "We can turn it into a set to do that.\n",
    "\n",
    "> list=[1,2,1,3,4,2]\n",
    "\n",
    "> set(list)\n",
    ">>{1, 2, 3, 4}"
   ]
  },
  {
   "cell_type": "code",
   "execution_count": null,
   "metadata": {},
   "outputs": [],
   "source": []
  },
  {
   "cell_type": "markdown",
   "metadata": {},
   "source": [
    "#### Q.14. Explain the //, %, and ** operators in Python.\n",
    "\n",
    "The // operator performs floor division. It will return the integer part of the result on division.\n",
    "\n",
    "> 7//2\n",
    ">>3\n",
    "\n",
    "Normal division would return 3.5 here.\n",
    "\n",
    "Similarly, ** performs exponentiation. a**b returns the value of a raised to the power b.\n",
    "\n",
    "> 2**10\n",
    ">>1024\n",
    "\n",
    "Finally, % is for modulus. This gives us the value left after the highest achievable division.\n",
    "\n",
    "> 13%7\n",
    "> >6\n"
   ]
  },
  {
   "cell_type": "code",
   "execution_count": null,
   "metadata": {},
   "outputs": [],
   "source": []
  },
  {
   "cell_type": "markdown",
   "metadata": {},
   "source": [
    "#### Q.15. What is a function?\n",
    "\n",
    "When we want to execute a sequence of statements, we can give it a name"
   ]
  },
  {
   "cell_type": "code",
   "execution_count": null,
   "metadata": {},
   "outputs": [],
   "source": []
  },
  {
   "cell_type": "markdown",
   "metadata": {},
   "source": [
    "#### Q.16. What is recursion?\n",
    "\n",
    "When a function makes a call to itself, it is termed recursion. But then, in order for it to avoid forming an infinite loop, we must have a base condition."
   ]
  },
  {
   "cell_type": "code",
   "execution_count": null,
   "metadata": {},
   "outputs": [],
   "source": []
  },
  {
   "cell_type": "markdown",
   "metadata": {},
   "source": [
    "#### Q.17. What does the function zip() do?\n",
    "\n",
    "One of the less common functions with beginners, zip() returns an iterator of tuples.\n",
    "\n",
    "Here, it pairs items from the two lists and creates tuples with those. But it doesn’t have to be lists.\n",
    "\n",
    "> list(zip(('a','b','c'),(1,2,3)))\n",
    ">>[(‘a’, 1), (‘b’, 2), (‘c’, 3)]"
   ]
  },
  {
   "cell_type": "code",
   "execution_count": null,
   "metadata": {},
   "outputs": [],
   "source": []
  },
  {
   "cell_type": "markdown",
   "metadata": {},
   "source": [
    "#### Q.18. Explain Python List Comprehension.\n",
    "\n",
    "The list comprehension in python is a way to declare a list in one line of code. Let’s take a look at one such example.\n",
    "\n",
    "> [i for i in range(1,11,2)]\n",
    ">>[1, 3, 5, 7, 9]\n",
    "\n"
   ]
  },
  {
   "cell_type": "code",
   "execution_count": null,
   "metadata": {},
   "outputs": [],
   "source": []
  },
  {
   "cell_type": "markdown",
   "metadata": {},
   "source": [
    "#### Q.19. How do you get all values from a Python dictionary?\n",
    "\n",
    "To get all keys from a dictionary, we make a call to the keys() method. Similarly, for values, we use the method values()."
   ]
  },
  {
   "cell_type": "code",
   "execution_count": null,
   "metadata": {},
   "outputs": [],
   "source": []
  },
  {
   "cell_type": "markdown",
   "metadata": {},
   "source": [
    "#### Q.54. What is a control flow statement?\n",
    "\n",
    "A Python program usually starts to execute from the first line. From there, it moves through each statement just once and as soon as it’s done with the last statement, it transactions the program. However, sometimes, we may want to take a more twisted path through the code. Control flow statements let us disturb the normal execution flow of a program and bend it to our will."
   ]
  },
  {
   "cell_type": "code",
   "execution_count": null,
   "metadata": {},
   "outputs": [],
   "source": []
  },
  {
   "cell_type": "code",
   "execution_count": null,
   "metadata": {},
   "outputs": [],
   "source": []
  },
  {
   "cell_type": "code",
   "execution_count": null,
   "metadata": {},
   "outputs": [],
   "source": []
  },
  {
   "cell_type": "code",
   "execution_count": null,
   "metadata": {},
   "outputs": [],
   "source": []
  }
 ],
 "metadata": {
  "kernelspec": {
   "display_name": "Python 3",
   "language": "python",
   "name": "python3"
  },
  "language_info": {
   "codemirror_mode": {
    "name": "ipython",
    "version": 3
   },
   "file_extension": ".py",
   "mimetype": "text/x-python",
   "name": "python",
   "nbconvert_exporter": "python",
   "pygments_lexer": "ipython3",
   "version": "3.7.4"
  }
 },
 "nbformat": 4,
 "nbformat_minor": 2
}
