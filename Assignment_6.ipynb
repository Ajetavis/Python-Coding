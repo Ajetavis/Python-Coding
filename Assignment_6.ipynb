{
 "cells": [
  {
   "cell_type": "markdown",
   "metadata": {},
   "source": [
    "# ASSIGNMENT_6"
   ]
  },
  {
   "cell_type": "markdown",
   "metadata": {},
   "source": [
    "## 01) Employee Assignment"
   ]
  },
  {
   "cell_type": "markdown",
   "metadata": {},
   "source": [
    "\n",
    "👉 1. Create a JSON file (employee.json) containing employee information of minimum 5 employees. Each employee information consists of Name, DOB, Height, City, State. Write a python program that reads this information from the JSON file and saves the information into a list of objects of Employee class. Finally print the list of the Employee objects.\n",
    "\n"
   ]
  },
  {
   "cell_type": "code",
   "execution_count": 1,
   "metadata": {},
   "outputs": [],
   "source": [
    "import json"
   ]
  },
  {
   "cell_type": "code",
   "execution_count": 2,
   "metadata": {},
   "outputs": [],
   "source": [
    "class Employee:\n",
    "    def __init__ (self, Name = None,DOB = None, Height = None, City = None,State = None):\n",
    "        self.Name = Name\n",
    "        self.DOB = DOB\n",
    "        self.Height = Height\n",
    "        self.City = City\n",
    "        self.State = State\n",
    "    def display_object(self):\n",
    "        print([self.Name,self.DOB,self.Height,self.City,self.State])"
   ]
  },
  {
   "cell_type": "code",
   "execution_count": 3,
   "metadata": {},
   "outputs": [],
   "source": [
    "k= Employee(1,2,3,4,5)"
   ]
  },
  {
   "cell_type": "code",
   "execution_count": 4,
   "metadata": {},
   "outputs": [
    {
     "name": "stdout",
     "output_type": "stream",
     "text": [
      "[1, 2, 3, 4, 5]\n"
     ]
    }
   ],
   "source": [
    "k.display_object()"
   ]
  },
  {
   "cell_type": "markdown",
   "metadata": {},
   "source": [
    "#### Writing content for a file "
   ]
  },
  {
   "cell_type": "code",
   "execution_count": 5,
   "metadata": {},
   "outputs": [],
   "source": [
    "# Creating content for json file\n",
    "employee='''{\"Employee1\":\n",
    "                {\"Name\":\"Rahul Chopra\",\"DOB\":\"27-01-1998\",\"Height\":\"5.7 inch\",\"City\":\"Chennai\",\"State\":\"TamilNadu\"},\n",
    "                \"Employee2\":\n",
    "                {\"Name\":\"Arun Kanna\",\"DOB\":\"23-04-1996\",\"Height\":\"5.9 inch\",\"City\":\"Mathure\",\"State\":\"UttarPradesh\"},\n",
    "                \"Employee3\":\n",
    "                {\"Name\":\"Mukul Arya\",\"DOB\":\"18-09-2000\",\"Height\":\"5.6 inch\",\"City\":\"Raipur\",\"State\":\"Chattisgarh\"},\n",
    "                \"Employee4\":\n",
    "                {\"Name\":\"Shubhali Rao\",\"DOB\":\"01-01-1998\",\"Height\":\"5.5 inch\",\"City\":\"Hamirpur\",\"State\":\"HimachalPradesh\"},\n",
    "                \"Employee5\":\n",
    "                {\"Name\":\"Nikita Vellore\",\"DOB\":\"16-02-2001\",\"Height\":\"5.6 inch\",\"City\":\"Hyderabad\",\"State\":\"AndhraPradesh\"}}'''"
   ]
  },
  {
   "cell_type": "code",
   "execution_count": 6,
   "metadata": {},
   "outputs": [],
   "source": [
    "details = json.loads(employee)"
   ]
  },
  {
   "cell_type": "markdown",
   "metadata": {},
   "source": [
    "####  writing to a json file"
   ]
  },
  {
   "cell_type": "code",
   "execution_count": 7,
   "metadata": {},
   "outputs": [],
   "source": [
    "with open('employee.json','w') as file:\n",
    "    json.dump(details,file)"
   ]
  },
  {
   "cell_type": "markdown",
   "metadata": {},
   "source": [
    "#### Function to  read a json file and creating Employee Objects "
   ]
  },
  {
   "cell_type": "code",
   "execution_count": 8,
   "metadata": {},
   "outputs": [],
   "source": [
    "def my_func():\n",
    "    global my_employee_object_list\n",
    "    with open ('employee.json') as fp:\n",
    "        content = json.load(fp)\n",
    "\n",
    "    my_employee_object_list = []\n",
    "    for k,v in content.items():\n",
    "        try:\n",
    "            my_item = Employee(v['Name'],v['DOB'],v['Height'],v['City'],v['State'])\n",
    "        except:\n",
    "            print('Somethin went wrong!')\n",
    "        else:\n",
    "            my_employee_object_list.append(my_item)\n",
    "    print(my_employee_object_list)"
   ]
  },
  {
   "cell_type": "markdown",
   "metadata": {},
   "source": [
    "#### Running the function "
   ]
  },
  {
   "cell_type": "code",
   "execution_count": 9,
   "metadata": {
    "scrolled": true
   },
   "outputs": [
    {
     "name": "stdout",
     "output_type": "stream",
     "text": [
      "[<__main__.Employee object at 0x00000114B0391408>, <__main__.Employee object at 0x00000114B03914C8>, <__main__.Employee object at 0x00000114B0391488>, <__main__.Employee object at 0x00000114B0391508>, <__main__.Employee object at 0x00000114B0391648>]\n"
     ]
    }
   ],
   "source": [
    "my_func()"
   ]
  },
  {
   "cell_type": "code",
   "execution_count": 10,
   "metadata": {},
   "outputs": [
    {
     "data": {
      "text/plain": [
       "[<__main__.Employee at 0x114b0391408>,\n",
       " <__main__.Employee at 0x114b03914c8>,\n",
       " <__main__.Employee at 0x114b0391488>,\n",
       " <__main__.Employee at 0x114b0391508>,\n",
       " <__main__.Employee at 0x114b0391648>]"
      ]
     },
     "execution_count": 10,
     "metadata": {},
     "output_type": "execute_result"
    }
   ],
   "source": [
    "my_employee_object_list"
   ]
  },
  {
   "cell_type": "code",
   "execution_count": 11,
   "metadata": {},
   "outputs": [
    {
     "name": "stdout",
     "output_type": "stream",
     "text": [
      "['Rahul Chopra', '27-01-1998', '5.7 inch', 'Chennai', 'TamilNadu']\n"
     ]
    }
   ],
   "source": [
    "my_employee_object_list[0].display_object()"
   ]
  },
  {
   "cell_type": "markdown",
   "metadata": {},
   "source": [
    "## 02) Capital assignment"
   ]
  },
  {
   "cell_type": "markdown",
   "metadata": {},
   "source": [
    "👉 2. Create a dictionary of any 7 Indian states and their capitals. Write this into a JSON file."
   ]
  },
  {
   "cell_type": "markdown",
   "metadata": {},
   "source": [
    "#### Writing to a json file "
   ]
  },
  {
   "cell_type": "code",
   "execution_count": 12,
   "metadata": {},
   "outputs": [],
   "source": [
    "cap = '''{\"Chhattisgarh\":\"Raipur\",\"AndhraPradesh\":\"Amaravati\",\"Bihar\":\"Patna\",\"Gujarat\":\"GandhiNagar\",\"TamilNadu\":\"Chennai\",\n",
    "      \"Telangana\":\"Hyderabad\",\"Karnataka\":\"Banglore\"}'''"
   ]
  },
  {
   "cell_type": "code",
   "execution_count": 13,
   "metadata": {},
   "outputs": [],
   "source": [
    "my_file = json.loads(cap)"
   ]
  },
  {
   "cell_type": "code",
   "execution_count": 14,
   "metadata": {},
   "outputs": [],
   "source": [
    "with open('Capitals.json','w') as fp:\n",
    "    json.dump(my_file,fp)"
   ]
  },
  {
   "cell_type": "markdown",
   "metadata": {},
   "source": [
    "#### Reading from a json file"
   ]
  },
  {
   "cell_type": "code",
   "execution_count": 15,
   "metadata": {},
   "outputs": [],
   "source": [
    "with open('Capitals.json') as fp:\n",
    "    cont = json.load(fp)"
   ]
  },
  {
   "cell_type": "code",
   "execution_count": 16,
   "metadata": {},
   "outputs": [
    {
     "data": {
      "text/plain": [
       "{'Chhattisgarh': 'Raipur',\n",
       " 'AndhraPradesh': 'Amaravati',\n",
       " 'Bihar': 'Patna',\n",
       " 'Gujarat': 'GandhiNagar',\n",
       " 'TamilNadu': 'Chennai',\n",
       " 'Telangana': 'Hyderabad',\n",
       " 'Karnataka': 'Banglore'}"
      ]
     },
     "execution_count": 16,
     "metadata": {},
     "output_type": "execute_result"
    }
   ],
   "source": [
    "cont"
   ]
  },
  {
   "cell_type": "markdown",
   "metadata": {},
   "source": [
    "## 03) DOG Class "
   ]
  },
  {
   "cell_type": "markdown",
   "metadata": {},
   "source": [
    "👉 1. Create a class named ‘Dog’. It should have a constructor which accepts its name, age and coat color. You must perform the following operations:\n",
    "\n",
    "    🔴 a. It should have a function ‘description()’ which prints the name and age of the dog.\n",
    "    🔴 b. It should have a function ‘get_info()’ which prints the coat color of the dog.\n",
    "    🔴 c. Create child classes ‘JackRussellTerrier’ and ‘Bulldog’ which is inherited from the class ‘Dog’. It should have at least two methods of its own.\n",
    "    🔴 d. Create objects and implement the above functionalities."
   ]
  },
  {
   "cell_type": "code",
   "execution_count": 17,
   "metadata": {},
   "outputs": [],
   "source": [
    "class Dog:\n",
    "    def __init__ (self,name = None,age= None,coat_color = None):\n",
    "        self.name = name\n",
    "        self.age = age\n",
    "        self.coat_color = coat_color\n",
    "    def description(self):\n",
    "        print('Name: ',self.name,'\\nAge: ', self.age)\n",
    "    def get_info(self):\n",
    "        print('Coat Color: ',self.coat_color)\n",
    "        \n",
    "        \n",
    "class JackRussellTerrier(Dog):    \n",
    "    def bark(self):\n",
    "        print('Bow Bow')\n",
    "    def sleep(self):\n",
    "        print('I am sleeping')\n",
    "        \n",
    "        \n",
    "class BullDog(Dog):\n",
    "    def __init(self,name,age,coat_color):\n",
    "        Dog.__init__(self,name,age,coat_color)\n",
    "    def eat(self):\n",
    "        print('I am eating')\n",
    "    def play(self):\n",
    "        print('I am playing')\n",
    "\n",
    "        \n",
    "        "
   ]
  },
  {
   "cell_type": "code",
   "execution_count": 18,
   "metadata": {},
   "outputs": [],
   "source": [
    "gull = Dog('husky',10,'green')"
   ]
  },
  {
   "cell_type": "code",
   "execution_count": 19,
   "metadata": {},
   "outputs": [
    {
     "data": {
      "text/plain": [
       "'husky'"
      ]
     },
     "execution_count": 19,
     "metadata": {},
     "output_type": "execute_result"
    }
   ],
   "source": [
    "gull.name"
   ]
  },
  {
   "cell_type": "code",
   "execution_count": 20,
   "metadata": {},
   "outputs": [],
   "source": [
    "hull = JackRussellTerrier('sam',8,'red')"
   ]
  },
  {
   "cell_type": "code",
   "execution_count": 21,
   "metadata": {},
   "outputs": [
    {
     "name": "stdout",
     "output_type": "stream",
     "text": [
      "Name:  sam \n",
      "Age:  8\n"
     ]
    }
   ],
   "source": [
    "hull.description()"
   ]
  },
  {
   "cell_type": "code",
   "execution_count": 22,
   "metadata": {},
   "outputs": [
    {
     "name": "stdout",
     "output_type": "stream",
     "text": [
      "Bow Bow\n"
     ]
    }
   ],
   "source": [
    "hull.bark()"
   ]
  },
  {
   "cell_type": "code",
   "execution_count": 23,
   "metadata": {},
   "outputs": [],
   "source": [
    "bull = BullDog('sammy',5,'orange')"
   ]
  },
  {
   "cell_type": "code",
   "execution_count": 24,
   "metadata": {},
   "outputs": [
    {
     "data": {
      "text/plain": [
       "'sammy'"
      ]
     },
     "execution_count": 24,
     "metadata": {},
     "output_type": "execute_result"
    }
   ],
   "source": [
    "bull.name"
   ]
  },
  {
   "cell_type": "code",
   "execution_count": 25,
   "metadata": {},
   "outputs": [
    {
     "name": "stdout",
     "output_type": "stream",
     "text": [
      "Coat Color:  orange\n"
     ]
    }
   ],
   "source": [
    "bull.get_info()"
   ]
  },
  {
   "cell_type": "code",
   "execution_count": 26,
   "metadata": {},
   "outputs": [
    {
     "name": "stdout",
     "output_type": "stream",
     "text": [
      "I am playing\n"
     ]
    }
   ],
   "source": [
    "bull.play()"
   ]
  },
  {
   "cell_type": "code",
   "execution_count": null,
   "metadata": {},
   "outputs": [],
   "source": []
  }
 ],
 "metadata": {
  "kernelspec": {
   "display_name": "Python 3",
   "language": "python",
   "name": "python3"
  },
  "language_info": {
   "codemirror_mode": {
    "name": "ipython",
    "version": 3
   },
   "file_extension": ".py",
   "mimetype": "text/x-python",
   "name": "python",
   "nbconvert_exporter": "python",
   "pygments_lexer": "ipython3",
   "version": "3.7.4"
  }
 },
 "nbformat": 4,
 "nbformat_minor": 2
}
